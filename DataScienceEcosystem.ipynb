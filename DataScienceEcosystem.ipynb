{
 "cells": [
  {
   "cell_type": "markdown",
   "id": "929ceac7-0dc1-4bf3-8868-17877edff095",
   "metadata": {},
   "source": [
    "# Data Science Tools and Ecosystem"
   ]
  },
  {
   "cell_type": "markdown",
   "id": "d9f37b24-edb2-4c85-bd83-f2c6569fb885",
   "metadata": {},
   "source": [
    "In this notebook, Data Science Tools and Ecosystem are summarized."
   ]
  },
  {
   "cell_type": "markdown",
   "id": "6d7d7c50-4d19-4eed-aab1-a022bb06e457",
   "metadata": {},
   "source": [
    "**Objectives:**\n",
    "* List popular languages for Data Science\n",
    "* List popular tools used by Data Scientists\n",
    "* Evaluating arithmetic expressions\n",
    " "
   ]
  },
  {
   "cell_type": "markdown",
   "id": "ab7f537a-705c-43b7-90a2-d42608953936",
   "metadata": {},
   "source": [
    "Some of the popular languages that Data Scientists use are:\n",
    "1. Java  \n",
    "1. Python  \n",
    "1. R  \n",
    "    "
   ]
  },
  {
   "cell_type": "markdown",
   "id": "6d489eb1-ebfd-4dad-aa6a-91799a1d0a34",
   "metadata": {},
   "source": [
    "Some of the commonly used libraries used by Data Scientists include:\n",
    "1. Matplotlib\n",
    "1. NumPy\n",
    "1. Pandas"
   ]
  },
  {
   "cell_type": "markdown",
   "id": "5deb7723-8d3a-4cb6-a1ce-2ad0b1cd5b24",
   "metadata": {},
   "source": [
    "|Data Science Tools|\n",
    "|------------------|\n",
    "| Jupyter          |\n",
    "| GitHub           |\n",
    "| Rstudio          |"
   ]
  },
  {
   "cell_type": "markdown",
   "id": "846ab943-a8c5-49d3-a9db-606145262fee",
   "metadata": {
    "tags": []
   },
   "source": [
    "### Below are a few examples of evaluating arithmetic expressions in Python"
   ]
  },
  {
   "cell_type": "code",
   "execution_count": 2,
   "id": "d0d14ea8-1d24-4631-9ae8-e71bd5ad1b3f",
   "metadata": {},
   "outputs": [
    {
     "data": {
      "text/plain": [
       "17"
      ]
     },
     "execution_count": 2,
     "metadata": {},
     "output_type": "execute_result"
    }
   ],
   "source": [
    "# This a simple arithmetic expression to mutiply then add integers\n",
    "(3*4)+5"
   ]
  },
  {
   "cell_type": "code",
   "execution_count": 6,
   "id": "2ea38e95-4967-45e4-8238-fbf291b873f8",
   "metadata": {
    "tags": []
   },
   "outputs": [
    {
     "name": "stdout",
     "output_type": "stream",
     "text": [
      "3.3333333333333335\n"
     ]
    }
   ],
   "source": [
    "m = 200\n",
    "h = m/60\n",
    "# This will convert 200 minutes to hours by diving by 60\n",
    "print(h)"
   ]
  },
  {
   "cell_type": "markdown",
   "id": "a64e304d-3aa0-4df7-b313-89beb74355b0",
   "metadata": {},
   "source": [
    "## Author\n",
    "Ghanim S."
   ]
  },
  {
   "cell_type": "code",
   "execution_count": null,
   "id": "b4b7320c-2a96-4fa5-8627-ccd42413ef0f",
   "metadata": {},
   "outputs": [],
   "source": []
  }
 ],
 "metadata": {
  "kernelspec": {
   "display_name": "Python",
   "language": "python",
   "name": "conda-env-python-py"
  },
  "language_info": {
   "codemirror_mode": {
    "name": "ipython",
    "version": 3
   },
   "file_extension": ".py",
   "mimetype": "text/x-python",
   "name": "python",
   "nbconvert_exporter": "python",
   "pygments_lexer": "ipython3",
   "version": "3.7.12"
  }
 },
 "nbformat": 4,
 "nbformat_minor": 5
}
